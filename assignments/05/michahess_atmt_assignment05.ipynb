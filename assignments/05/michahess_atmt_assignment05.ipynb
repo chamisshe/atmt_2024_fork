{
 "cells": [
  {
   "cell_type": "markdown",
   "metadata": {},
   "source": [
    "## Task 1"
   ]
  },
  {
   "cell_type": "code",
   "execution_count": 47,
   "metadata": {},
   "outputs": [],
   "source": [
    "beam_k = [1,2,3,4,5,7,9,12, 15, 18, 21, 24]"
   ]
  },
  {
   "cell_type": "code",
   "execution_count": null,
   "metadata": {},
   "outputs": [
    {
     "name": "stdout",
     "output_type": "stream",
     "text": [
      "Translating with beam size 1...\n",
      "Translation Successful!\n",
      "\n",
      "Postprocessing...\n"
     ]
    },
    {
     "name": "stderr",
     "output_type": "stream",
     "text": [
      "[2024-12-09 18:06:37] COMMAND: atmt_2024/translate_beam.py --checkpoint-path atmt_2024/assignments/03/baseline/checkpoints/checkpoint_best.pt --beam-size 1 --output outputs/translation_beam=1-raw.txt --data atmt_2024/data/en-fr/prepared --dicts atmt_2024/data/en-fr/prepared\n",
      "[2024-12-09 18:06:37] Arguments: {'cuda': False, 'data': 'atmt_2024/data/en-fr/prepared', 'source_lang': 'fr', 'target_lang': 'en', 'max_tokens': None, 'batch_size': None, 'train_on_tiny': False, 'arch': 'lstm', 'max_epoch': 10000, 'clip_norm': 4.0, 'lr': 0.0003, 'patience': 3, 'log_file': None, 'save_dir': '/home/user/kew/HS2021/atmt/tests/assignment_03/baseline/checkpoints', 'restore_file': 'checkpoint_last.pt', 'save_interval': 1, 'no_save': False, 'epoch_checkpoints': False, 'encoder_embed_dim': 64, 'encoder_embed_path': None, 'encoder_hidden_size': 64, 'encoder_num_layers': 1, 'encoder_bidirectional': 'True', 'encoder_dropout_in': 0.25, 'encoder_dropout_out': 0.25, 'decoder_embed_dim': 64, 'decoder_embed_path': None, 'decoder_hidden_size': 128, 'decoder_num_layers': 1, 'decoder_dropout_in': 0.25, 'decoder_dropout_out': 0.25, 'decoder_use_attention': 'True', 'decoder_use_lexical_model': 'False', 'device_id': 0, 'seed': 42, 'dicts': 'atmt_2024/data/en-fr/prepared', 'checkpoint_path': 'atmt_2024/assignments/03/baseline/checkpoints/checkpoint_best.pt', 'output': 'outputs/translation_beam=1-raw.txt', 'max_len': 100, 'beam_size': 1, 'alpha': 0.0}\n",
      "[2024-12-09 18:06:37] Loaded a source dictionary (fr) with 4000 words\n",
      "[2024-12-09 18:06:37] Loaded a target dictionary (en) with 4000 words\n",
      "[2024-12-09 18:06:37] Loaded a model from checkpoint atmt_2024/assignments/03/baseline/checkpoints/checkpoint_best.pt\n",
      "\n",
      "| Generation:   0%|          | 0/1 [00:00<?, ?it/s]\n",
      "| Generation: 100%|██████████| 1/1 [00:10<00:00, 10.16s/it]\n",
      "                                                           \n"
     ]
    },
    {
     "name": "stdout",
     "output_type": "stream",
     "text": [
      "Postprocessing Successful!\n",
      "\n",
      "Translating with beam size 2...\n",
      "Translation Successful!\n",
      "\n",
      "Postprocessing...\n"
     ]
    },
    {
     "name": "stderr",
     "output_type": "stream",
     "text": [
      "[2024-12-09 18:06:50] COMMAND: atmt_2024/translate_beam.py --checkpoint-path atmt_2024/assignments/03/baseline/checkpoints/checkpoint_best.pt --beam-size 2 --output outputs/translation_beam=2-raw.txt --data atmt_2024/data/en-fr/prepared --dicts atmt_2024/data/en-fr/prepared\n",
      "[2024-12-09 18:06:50] Arguments: {'cuda': False, 'data': 'atmt_2024/data/en-fr/prepared', 'source_lang': 'fr', 'target_lang': 'en', 'max_tokens': None, 'batch_size': None, 'train_on_tiny': False, 'arch': 'lstm', 'max_epoch': 10000, 'clip_norm': 4.0, 'lr': 0.0003, 'patience': 3, 'log_file': None, 'save_dir': '/home/user/kew/HS2021/atmt/tests/assignment_03/baseline/checkpoints', 'restore_file': 'checkpoint_last.pt', 'save_interval': 1, 'no_save': False, 'epoch_checkpoints': False, 'encoder_embed_dim': 64, 'encoder_embed_path': None, 'encoder_hidden_size': 64, 'encoder_num_layers': 1, 'encoder_bidirectional': 'True', 'encoder_dropout_in': 0.25, 'encoder_dropout_out': 0.25, 'decoder_embed_dim': 64, 'decoder_embed_path': None, 'decoder_hidden_size': 128, 'decoder_num_layers': 1, 'decoder_dropout_in': 0.25, 'decoder_dropout_out': 0.25, 'decoder_use_attention': 'True', 'decoder_use_lexical_model': 'False', 'device_id': 0, 'seed': 42, 'dicts': 'atmt_2024/data/en-fr/prepared', 'checkpoint_path': 'atmt_2024/assignments/03/baseline/checkpoints/checkpoint_best.pt', 'output': 'outputs/translation_beam=2-raw.txt', 'max_len': 100, 'beam_size': 2, 'alpha': 0.0}\n",
      "[2024-12-09 18:06:50] Loaded a source dictionary (fr) with 4000 words\n",
      "[2024-12-09 18:06:50] Loaded a target dictionary (en) with 4000 words\n",
      "[2024-12-09 18:06:50] Loaded a model from checkpoint atmt_2024/assignments/03/baseline/checkpoints/checkpoint_best.pt\n",
      "\n",
      "| Generation:   0%|          | 0/1 [00:00<?, ?it/s]\n",
      "| Generation: 100%|██████████| 1/1 [00:15<00:00, 15.23s/it]\n",
      "                                                           \n"
     ]
    },
    {
     "name": "stdout",
     "output_type": "stream",
     "text": [
      "Postprocessing Successful!\n",
      "\n",
      "Translating with beam size 3...\n",
      "Translation Successful!\n",
      "\n",
      "Postprocessing...\n"
     ]
    },
    {
     "name": "stderr",
     "output_type": "stream",
     "text": [
      "[2024-12-09 18:07:08] COMMAND: atmt_2024/translate_beam.py --checkpoint-path atmt_2024/assignments/03/baseline/checkpoints/checkpoint_best.pt --beam-size 3 --output outputs/translation_beam=3-raw.txt --data atmt_2024/data/en-fr/prepared --dicts atmt_2024/data/en-fr/prepared\n",
      "[2024-12-09 18:07:08] Arguments: {'cuda': False, 'data': 'atmt_2024/data/en-fr/prepared', 'source_lang': 'fr', 'target_lang': 'en', 'max_tokens': None, 'batch_size': None, 'train_on_tiny': False, 'arch': 'lstm', 'max_epoch': 10000, 'clip_norm': 4.0, 'lr': 0.0003, 'patience': 3, 'log_file': None, 'save_dir': '/home/user/kew/HS2021/atmt/tests/assignment_03/baseline/checkpoints', 'restore_file': 'checkpoint_last.pt', 'save_interval': 1, 'no_save': False, 'epoch_checkpoints': False, 'encoder_embed_dim': 64, 'encoder_embed_path': None, 'encoder_hidden_size': 64, 'encoder_num_layers': 1, 'encoder_bidirectional': 'True', 'encoder_dropout_in': 0.25, 'encoder_dropout_out': 0.25, 'decoder_embed_dim': 64, 'decoder_embed_path': None, 'decoder_hidden_size': 128, 'decoder_num_layers': 1, 'decoder_dropout_in': 0.25, 'decoder_dropout_out': 0.25, 'decoder_use_attention': 'True', 'decoder_use_lexical_model': 'False', 'device_id': 0, 'seed': 42, 'dicts': 'atmt_2024/data/en-fr/prepared', 'checkpoint_path': 'atmt_2024/assignments/03/baseline/checkpoints/checkpoint_best.pt', 'output': 'outputs/translation_beam=3-raw.txt', 'max_len': 100, 'beam_size': 3, 'alpha': 0.0}\n",
      "[2024-12-09 18:07:08] Loaded a source dictionary (fr) with 4000 words\n",
      "[2024-12-09 18:07:08] Loaded a target dictionary (en) with 4000 words\n",
      "[2024-12-09 18:07:08] Loaded a model from checkpoint atmt_2024/assignments/03/baseline/checkpoints/checkpoint_best.pt\n",
      "\n",
      "| Generation:   0%|          | 0/1 [00:00<?, ?it/s]\n",
      "| Generation: 100%|██████████| 1/1 [00:22<00:00, 22.25s/it]\n",
      "                                                           \n"
     ]
    },
    {
     "name": "stdout",
     "output_type": "stream",
     "text": [
      "Postprocessing Successful!\n",
      "\n",
      "Translating with beam size 4...\n",
      "Translation Successful!\n",
      "\n",
      "Postprocessing...\n"
     ]
    },
    {
     "name": "stderr",
     "output_type": "stream",
     "text": [
      "[2024-12-09 18:07:34] COMMAND: atmt_2024/translate_beam.py --checkpoint-path atmt_2024/assignments/03/baseline/checkpoints/checkpoint_best.pt --beam-size 4 --output outputs/translation_beam=4-raw.txt --data atmt_2024/data/en-fr/prepared --dicts atmt_2024/data/en-fr/prepared\n",
      "[2024-12-09 18:07:34] Arguments: {'cuda': False, 'data': 'atmt_2024/data/en-fr/prepared', 'source_lang': 'fr', 'target_lang': 'en', 'max_tokens': None, 'batch_size': None, 'train_on_tiny': False, 'arch': 'lstm', 'max_epoch': 10000, 'clip_norm': 4.0, 'lr': 0.0003, 'patience': 3, 'log_file': None, 'save_dir': '/home/user/kew/HS2021/atmt/tests/assignment_03/baseline/checkpoints', 'restore_file': 'checkpoint_last.pt', 'save_interval': 1, 'no_save': False, 'epoch_checkpoints': False, 'encoder_embed_dim': 64, 'encoder_embed_path': None, 'encoder_hidden_size': 64, 'encoder_num_layers': 1, 'encoder_bidirectional': 'True', 'encoder_dropout_in': 0.25, 'encoder_dropout_out': 0.25, 'decoder_embed_dim': 64, 'decoder_embed_path': None, 'decoder_hidden_size': 128, 'decoder_num_layers': 1, 'decoder_dropout_in': 0.25, 'decoder_dropout_out': 0.25, 'decoder_use_attention': 'True', 'decoder_use_lexical_model': 'False', 'device_id': 0, 'seed': 42, 'dicts': 'atmt_2024/data/en-fr/prepared', 'checkpoint_path': 'atmt_2024/assignments/03/baseline/checkpoints/checkpoint_best.pt', 'output': 'outputs/translation_beam=4-raw.txt', 'max_len': 100, 'beam_size': 4, 'alpha': 0.0}\n",
      "[2024-12-09 18:07:34] Loaded a source dictionary (fr) with 4000 words\n",
      "[2024-12-09 18:07:34] Loaded a target dictionary (en) with 4000 words\n",
      "[2024-12-09 18:07:34] Loaded a model from checkpoint atmt_2024/assignments/03/baseline/checkpoints/checkpoint_best.pt\n",
      "\n",
      "| Generation:   0%|          | 0/1 [00:00<?, ?it/s]\n",
      "| Generation: 100%|██████████| 1/1 [00:30<00:00, 30.84s/it]\n",
      "                                                           \n"
     ]
    },
    {
     "name": "stdout",
     "output_type": "stream",
     "text": [
      "Postprocessing Successful!\n",
      "\n",
      "Translating with beam size 5...\n",
      "Translation Successful!\n",
      "\n",
      "Postprocessing...\n"
     ]
    },
    {
     "name": "stderr",
     "output_type": "stream",
     "text": [
      "[2024-12-09 18:08:07] COMMAND: atmt_2024/translate_beam.py --checkpoint-path atmt_2024/assignments/03/baseline/checkpoints/checkpoint_best.pt --beam-size 5 --output outputs/translation_beam=5-raw.txt --data atmt_2024/data/en-fr/prepared --dicts atmt_2024/data/en-fr/prepared\n",
      "[2024-12-09 18:08:07] Arguments: {'cuda': False, 'data': 'atmt_2024/data/en-fr/prepared', 'source_lang': 'fr', 'target_lang': 'en', 'max_tokens': None, 'batch_size': None, 'train_on_tiny': False, 'arch': 'lstm', 'max_epoch': 10000, 'clip_norm': 4.0, 'lr': 0.0003, 'patience': 3, 'log_file': None, 'save_dir': '/home/user/kew/HS2021/atmt/tests/assignment_03/baseline/checkpoints', 'restore_file': 'checkpoint_last.pt', 'save_interval': 1, 'no_save': False, 'epoch_checkpoints': False, 'encoder_embed_dim': 64, 'encoder_embed_path': None, 'encoder_hidden_size': 64, 'encoder_num_layers': 1, 'encoder_bidirectional': 'True', 'encoder_dropout_in': 0.25, 'encoder_dropout_out': 0.25, 'decoder_embed_dim': 64, 'decoder_embed_path': None, 'decoder_hidden_size': 128, 'decoder_num_layers': 1, 'decoder_dropout_in': 0.25, 'decoder_dropout_out': 0.25, 'decoder_use_attention': 'True', 'decoder_use_lexical_model': 'False', 'device_id': 0, 'seed': 42, 'dicts': 'atmt_2024/data/en-fr/prepared', 'checkpoint_path': 'atmt_2024/assignments/03/baseline/checkpoints/checkpoint_best.pt', 'output': 'outputs/translation_beam=5-raw.txt', 'max_len': 100, 'beam_size': 5, 'alpha': 0.0}\n",
      "[2024-12-09 18:08:08] Loaded a source dictionary (fr) with 4000 words\n",
      "[2024-12-09 18:08:08] Loaded a target dictionary (en) with 4000 words\n",
      "[2024-12-09 18:08:08] Loaded a model from checkpoint atmt_2024/assignments/03/baseline/checkpoints/checkpoint_best.pt\n",
      "\n",
      "| Generation:   0%|          | 0/1 [00:00<?, ?it/s]\n",
      "| Generation: 100%|██████████| 1/1 [00:39<00:00, 39.42s/it]\n",
      "                                                           \n"
     ]
    },
    {
     "name": "stdout",
     "output_type": "stream",
     "text": [
      "Postprocessing Successful!\n",
      "\n",
      "Translating with beam size 7...\n",
      "Translation Successful!\n",
      "\n",
      "Postprocessing...\n"
     ]
    },
    {
     "name": "stderr",
     "output_type": "stream",
     "text": [
      "[2024-12-09 18:08:50] COMMAND: atmt_2024/translate_beam.py --checkpoint-path atmt_2024/assignments/03/baseline/checkpoints/checkpoint_best.pt --beam-size 7 --output outputs/translation_beam=7-raw.txt --data atmt_2024/data/en-fr/prepared --dicts atmt_2024/data/en-fr/prepared\n",
      "[2024-12-09 18:08:50] Arguments: {'cuda': False, 'data': 'atmt_2024/data/en-fr/prepared', 'source_lang': 'fr', 'target_lang': 'en', 'max_tokens': None, 'batch_size': None, 'train_on_tiny': False, 'arch': 'lstm', 'max_epoch': 10000, 'clip_norm': 4.0, 'lr': 0.0003, 'patience': 3, 'log_file': None, 'save_dir': '/home/user/kew/HS2021/atmt/tests/assignment_03/baseline/checkpoints', 'restore_file': 'checkpoint_last.pt', 'save_interval': 1, 'no_save': False, 'epoch_checkpoints': False, 'encoder_embed_dim': 64, 'encoder_embed_path': None, 'encoder_hidden_size': 64, 'encoder_num_layers': 1, 'encoder_bidirectional': 'True', 'encoder_dropout_in': 0.25, 'encoder_dropout_out': 0.25, 'decoder_embed_dim': 64, 'decoder_embed_path': None, 'decoder_hidden_size': 128, 'decoder_num_layers': 1, 'decoder_dropout_in': 0.25, 'decoder_dropout_out': 0.25, 'decoder_use_attention': 'True', 'decoder_use_lexical_model': 'False', 'device_id': 0, 'seed': 42, 'dicts': 'atmt_2024/data/en-fr/prepared', 'checkpoint_path': 'atmt_2024/assignments/03/baseline/checkpoints/checkpoint_best.pt', 'output': 'outputs/translation_beam=7-raw.txt', 'max_len': 100, 'beam_size': 7, 'alpha': 0.0}\n",
      "[2024-12-09 18:08:50] Loaded a source dictionary (fr) with 4000 words\n",
      "[2024-12-09 18:08:50] Loaded a target dictionary (en) with 4000 words\n",
      "[2024-12-09 18:08:50] Loaded a model from checkpoint atmt_2024/assignments/03/baseline/checkpoints/checkpoint_best.pt\n",
      "\n",
      "| Generation:   0%|          | 0/1 [00:00<?, ?it/s]\n",
      "| Generation: 100%|██████████| 1/1 [01:00<00:00, 60.51s/it]\n",
      "                                                           \n"
     ]
    },
    {
     "name": "stdout",
     "output_type": "stream",
     "text": [
      "Postprocessing Successful!\n",
      "\n",
      "Translating with beam size 9...\n",
      "Translation Successful!\n",
      "\n",
      "Postprocessing...\n"
     ]
    },
    {
     "name": "stderr",
     "output_type": "stream",
     "text": [
      "[2024-12-09 18:09:53] COMMAND: atmt_2024/translate_beam.py --checkpoint-path atmt_2024/assignments/03/baseline/checkpoints/checkpoint_best.pt --beam-size 9 --output outputs/translation_beam=9-raw.txt --data atmt_2024/data/en-fr/prepared --dicts atmt_2024/data/en-fr/prepared\n",
      "[2024-12-09 18:09:53] Arguments: {'cuda': False, 'data': 'atmt_2024/data/en-fr/prepared', 'source_lang': 'fr', 'target_lang': 'en', 'max_tokens': None, 'batch_size': None, 'train_on_tiny': False, 'arch': 'lstm', 'max_epoch': 10000, 'clip_norm': 4.0, 'lr': 0.0003, 'patience': 3, 'log_file': None, 'save_dir': '/home/user/kew/HS2021/atmt/tests/assignment_03/baseline/checkpoints', 'restore_file': 'checkpoint_last.pt', 'save_interval': 1, 'no_save': False, 'epoch_checkpoints': False, 'encoder_embed_dim': 64, 'encoder_embed_path': None, 'encoder_hidden_size': 64, 'encoder_num_layers': 1, 'encoder_bidirectional': 'True', 'encoder_dropout_in': 0.25, 'encoder_dropout_out': 0.25, 'decoder_embed_dim': 64, 'decoder_embed_path': None, 'decoder_hidden_size': 128, 'decoder_num_layers': 1, 'decoder_dropout_in': 0.25, 'decoder_dropout_out': 0.25, 'decoder_use_attention': 'True', 'decoder_use_lexical_model': 'False', 'device_id': 0, 'seed': 42, 'dicts': 'atmt_2024/data/en-fr/prepared', 'checkpoint_path': 'atmt_2024/assignments/03/baseline/checkpoints/checkpoint_best.pt', 'output': 'outputs/translation_beam=9-raw.txt', 'max_len': 100, 'beam_size': 9, 'alpha': 0.0}\n",
      "[2024-12-09 18:09:53] Loaded a source dictionary (fr) with 4000 words\n",
      "[2024-12-09 18:09:53] Loaded a target dictionary (en) with 4000 words\n",
      "[2024-12-09 18:09:53] Loaded a model from checkpoint atmt_2024/assignments/03/baseline/checkpoints/checkpoint_best.pt\n",
      "\n",
      "| Generation:   0%|          | 0/1 [00:00<?, ?it/s]\n",
      "| Generation: 100%|██████████| 1/1 [01:28<00:00, 88.77s/it]\n",
      "                                                           \n"
     ]
    },
    {
     "name": "stdout",
     "output_type": "stream",
     "text": [
      "Postprocessing Successful!\n",
      "\n",
      "Translating with beam size 12...\n",
      "Translation Successful!\n",
      "\n",
      "Postprocessing...\n"
     ]
    },
    {
     "name": "stderr",
     "output_type": "stream",
     "text": [
      "[2024-12-09 18:11:25] COMMAND: atmt_2024/translate_beam.py --checkpoint-path atmt_2024/assignments/03/baseline/checkpoints/checkpoint_best.pt --beam-size 12 --output outputs/translation_beam=12-raw.txt --data atmt_2024/data/en-fr/prepared --dicts atmt_2024/data/en-fr/prepared\n",
      "[2024-12-09 18:11:25] Arguments: {'cuda': False, 'data': 'atmt_2024/data/en-fr/prepared', 'source_lang': 'fr', 'target_lang': 'en', 'max_tokens': None, 'batch_size': None, 'train_on_tiny': False, 'arch': 'lstm', 'max_epoch': 10000, 'clip_norm': 4.0, 'lr': 0.0003, 'patience': 3, 'log_file': None, 'save_dir': '/home/user/kew/HS2021/atmt/tests/assignment_03/baseline/checkpoints', 'restore_file': 'checkpoint_last.pt', 'save_interval': 1, 'no_save': False, 'epoch_checkpoints': False, 'encoder_embed_dim': 64, 'encoder_embed_path': None, 'encoder_hidden_size': 64, 'encoder_num_layers': 1, 'encoder_bidirectional': 'True', 'encoder_dropout_in': 0.25, 'encoder_dropout_out': 0.25, 'decoder_embed_dim': 64, 'decoder_embed_path': None, 'decoder_hidden_size': 128, 'decoder_num_layers': 1, 'decoder_dropout_in': 0.25, 'decoder_dropout_out': 0.25, 'decoder_use_attention': 'True', 'decoder_use_lexical_model': 'False', 'device_id': 0, 'seed': 42, 'dicts': 'atmt_2024/data/en-fr/prepared', 'checkpoint_path': 'atmt_2024/assignments/03/baseline/checkpoints/checkpoint_best.pt', 'output': 'outputs/translation_beam=12-raw.txt', 'max_len': 100, 'beam_size': 12, 'alpha': 0.0}\n",
      "[2024-12-09 18:11:25] Loaded a source dictionary (fr) with 4000 words\n",
      "[2024-12-09 18:11:25] Loaded a target dictionary (en) with 4000 words\n",
      "[2024-12-09 18:11:25] Loaded a model from checkpoint atmt_2024/assignments/03/baseline/checkpoints/checkpoint_best.pt\n",
      "\n",
      "| Generation:   0%|          | 0/1 [00:00<?, ?it/s]\n",
      "| Generation: 100%|██████████| 1/1 [02:26<00:00, 146.98s/it]\n",
      "                                                            \n"
     ]
    },
    {
     "name": "stdout",
     "output_type": "stream",
     "text": [
      "Postprocessing Successful!\n",
      "\n",
      "Translating with beam size 15...\n",
      "Translation Successful!\n",
      "\n",
      "Postprocessing...\n"
     ]
    },
    {
     "name": "stderr",
     "output_type": "stream",
     "text": [
      "[2024-12-09 18:13:55] COMMAND: atmt_2024/translate_beam.py --checkpoint-path atmt_2024/assignments/03/baseline/checkpoints/checkpoint_best.pt --beam-size 15 --output outputs/translation_beam=15-raw.txt --data atmt_2024/data/en-fr/prepared --dicts atmt_2024/data/en-fr/prepared\n",
      "[2024-12-09 18:13:55] Arguments: {'cuda': False, 'data': 'atmt_2024/data/en-fr/prepared', 'source_lang': 'fr', 'target_lang': 'en', 'max_tokens': None, 'batch_size': None, 'train_on_tiny': False, 'arch': 'lstm', 'max_epoch': 10000, 'clip_norm': 4.0, 'lr': 0.0003, 'patience': 3, 'log_file': None, 'save_dir': '/home/user/kew/HS2021/atmt/tests/assignment_03/baseline/checkpoints', 'restore_file': 'checkpoint_last.pt', 'save_interval': 1, 'no_save': False, 'epoch_checkpoints': False, 'encoder_embed_dim': 64, 'encoder_embed_path': None, 'encoder_hidden_size': 64, 'encoder_num_layers': 1, 'encoder_bidirectional': 'True', 'encoder_dropout_in': 0.25, 'encoder_dropout_out': 0.25, 'decoder_embed_dim': 64, 'decoder_embed_path': None, 'decoder_hidden_size': 128, 'decoder_num_layers': 1, 'decoder_dropout_in': 0.25, 'decoder_dropout_out': 0.25, 'decoder_use_attention': 'True', 'decoder_use_lexical_model': 'False', 'device_id': 0, 'seed': 42, 'dicts': 'atmt_2024/data/en-fr/prepared', 'checkpoint_path': 'atmt_2024/assignments/03/baseline/checkpoints/checkpoint_best.pt', 'output': 'outputs/translation_beam=15-raw.txt', 'max_len': 100, 'beam_size': 15, 'alpha': 0.0}\n",
      "[2024-12-09 18:13:55] Loaded a source dictionary (fr) with 4000 words\n",
      "[2024-12-09 18:13:55] Loaded a target dictionary (en) with 4000 words\n",
      "[2024-12-09 18:13:55] Loaded a model from checkpoint atmt_2024/assignments/03/baseline/checkpoints/checkpoint_best.pt\n",
      "\n",
      "| Generation:   0%|          | 0/1 [00:00<?, ?it/s]\n",
      "| Generation: 100%|██████████| 1/1 [03:29<00:00, 209.31s/it]\n",
      "                                                            \n"
     ]
    },
    {
     "name": "stdout",
     "output_type": "stream",
     "text": [
      "Postprocessing Successful!\n",
      "\n",
      "Translating with beam size 18...\n",
      "Translation Successful!\n",
      "\n",
      "Postprocessing...\n"
     ]
    },
    {
     "name": "stderr",
     "output_type": "stream",
     "text": [
      "[2024-12-09 18:17:27] COMMAND: atmt_2024/translate_beam.py --checkpoint-path atmt_2024/assignments/03/baseline/checkpoints/checkpoint_best.pt --beam-size 18 --output outputs/translation_beam=18-raw.txt --data atmt_2024/data/en-fr/prepared --dicts atmt_2024/data/en-fr/prepared\n",
      "[2024-12-09 18:17:27] Arguments: {'cuda': False, 'data': 'atmt_2024/data/en-fr/prepared', 'source_lang': 'fr', 'target_lang': 'en', 'max_tokens': None, 'batch_size': None, 'train_on_tiny': False, 'arch': 'lstm', 'max_epoch': 10000, 'clip_norm': 4.0, 'lr': 0.0003, 'patience': 3, 'log_file': None, 'save_dir': '/home/user/kew/HS2021/atmt/tests/assignment_03/baseline/checkpoints', 'restore_file': 'checkpoint_last.pt', 'save_interval': 1, 'no_save': False, 'epoch_checkpoints': False, 'encoder_embed_dim': 64, 'encoder_embed_path': None, 'encoder_hidden_size': 64, 'encoder_num_layers': 1, 'encoder_bidirectional': 'True', 'encoder_dropout_in': 0.25, 'encoder_dropout_out': 0.25, 'decoder_embed_dim': 64, 'decoder_embed_path': None, 'decoder_hidden_size': 128, 'decoder_num_layers': 1, 'decoder_dropout_in': 0.25, 'decoder_dropout_out': 0.25, 'decoder_use_attention': 'True', 'decoder_use_lexical_model': 'False', 'device_id': 0, 'seed': 42, 'dicts': 'atmt_2024/data/en-fr/prepared', 'checkpoint_path': 'atmt_2024/assignments/03/baseline/checkpoints/checkpoint_best.pt', 'output': 'outputs/translation_beam=18-raw.txt', 'max_len': 100, 'beam_size': 18, 'alpha': 0.0}\n",
      "[2024-12-09 18:17:27] Loaded a source dictionary (fr) with 4000 words\n",
      "[2024-12-09 18:17:27] Loaded a target dictionary (en) with 4000 words\n",
      "[2024-12-09 18:17:27] Loaded a model from checkpoint atmt_2024/assignments/03/baseline/checkpoints/checkpoint_best.pt\n",
      "\n",
      "| Generation:   0%|          | 0/1 [00:00<?, ?it/s]\n",
      "| Generation: 100%|██████████| 1/1 [04:56<00:00, 296.11s/it]\n",
      "                                                            \n"
     ]
    },
    {
     "name": "stdout",
     "output_type": "stream",
     "text": [
      "Postprocessing Successful!\n",
      "\n",
      "Translating with beam size 21...\n",
      "Translation Successful!\n",
      "\n",
      "Postprocessing...\n"
     ]
    },
    {
     "name": "stderr",
     "output_type": "stream",
     "text": [
      "[2024-12-09 18:22:26] COMMAND: atmt_2024/translate_beam.py --checkpoint-path atmt_2024/assignments/03/baseline/checkpoints/checkpoint_best.pt --beam-size 21 --output outputs/translation_beam=21-raw.txt --data atmt_2024/data/en-fr/prepared --dicts atmt_2024/data/en-fr/prepared\n",
      "[2024-12-09 18:22:26] Arguments: {'cuda': False, 'data': 'atmt_2024/data/en-fr/prepared', 'source_lang': 'fr', 'target_lang': 'en', 'max_tokens': None, 'batch_size': None, 'train_on_tiny': False, 'arch': 'lstm', 'max_epoch': 10000, 'clip_norm': 4.0, 'lr': 0.0003, 'patience': 3, 'log_file': None, 'save_dir': '/home/user/kew/HS2021/atmt/tests/assignment_03/baseline/checkpoints', 'restore_file': 'checkpoint_last.pt', 'save_interval': 1, 'no_save': False, 'epoch_checkpoints': False, 'encoder_embed_dim': 64, 'encoder_embed_path': None, 'encoder_hidden_size': 64, 'encoder_num_layers': 1, 'encoder_bidirectional': 'True', 'encoder_dropout_in': 0.25, 'encoder_dropout_out': 0.25, 'decoder_embed_dim': 64, 'decoder_embed_path': None, 'decoder_hidden_size': 128, 'decoder_num_layers': 1, 'decoder_dropout_in': 0.25, 'decoder_dropout_out': 0.25, 'decoder_use_attention': 'True', 'decoder_use_lexical_model': 'False', 'device_id': 0, 'seed': 42, 'dicts': 'atmt_2024/data/en-fr/prepared', 'checkpoint_path': 'atmt_2024/assignments/03/baseline/checkpoints/checkpoint_best.pt', 'output': 'outputs/translation_beam=21-raw.txt', 'max_len': 100, 'beam_size': 21, 'alpha': 0.0}\n",
      "[2024-12-09 18:22:26] Loaded a source dictionary (fr) with 4000 words\n",
      "[2024-12-09 18:22:26] Loaded a target dictionary (en) with 4000 words\n",
      "[2024-12-09 18:22:26] Loaded a model from checkpoint atmt_2024/assignments/03/baseline/checkpoints/checkpoint_best.pt\n",
      "\n",
      "| Generation:   0%|          | 0/1 [00:00<?, ?it/s]\n",
      "| Generation: 100%|██████████| 1/1 [06:25<00:00, 385.05s/it]\n",
      "                                                            \n"
     ]
    },
    {
     "name": "stdout",
     "output_type": "stream",
     "text": [
      "Postprocessing Successful!\n",
      "\n",
      "Translating with beam size 24...\n",
      "Translation Successful!\n",
      "\n",
      "Postprocessing...\n"
     ]
    },
    {
     "name": "stderr",
     "output_type": "stream",
     "text": [
      "[2024-12-09 18:28:54] COMMAND: atmt_2024/translate_beam.py --checkpoint-path atmt_2024/assignments/03/baseline/checkpoints/checkpoint_best.pt --beam-size 24 --output outputs/translation_beam=24-raw.txt --data atmt_2024/data/en-fr/prepared --dicts atmt_2024/data/en-fr/prepared\n",
      "[2024-12-09 18:28:54] Arguments: {'cuda': False, 'data': 'atmt_2024/data/en-fr/prepared', 'source_lang': 'fr', 'target_lang': 'en', 'max_tokens': None, 'batch_size': None, 'train_on_tiny': False, 'arch': 'lstm', 'max_epoch': 10000, 'clip_norm': 4.0, 'lr': 0.0003, 'patience': 3, 'log_file': None, 'save_dir': '/home/user/kew/HS2021/atmt/tests/assignment_03/baseline/checkpoints', 'restore_file': 'checkpoint_last.pt', 'save_interval': 1, 'no_save': False, 'epoch_checkpoints': False, 'encoder_embed_dim': 64, 'encoder_embed_path': None, 'encoder_hidden_size': 64, 'encoder_num_layers': 1, 'encoder_bidirectional': 'True', 'encoder_dropout_in': 0.25, 'encoder_dropout_out': 0.25, 'decoder_embed_dim': 64, 'decoder_embed_path': None, 'decoder_hidden_size': 128, 'decoder_num_layers': 1, 'decoder_dropout_in': 0.25, 'decoder_dropout_out': 0.25, 'decoder_use_attention': 'True', 'decoder_use_lexical_model': 'False', 'device_id': 0, 'seed': 42, 'dicts': 'atmt_2024/data/en-fr/prepared', 'checkpoint_path': 'atmt_2024/assignments/03/baseline/checkpoints/checkpoint_best.pt', 'output': 'outputs/translation_beam=24-raw.txt', 'max_len': 100, 'beam_size': 24, 'alpha': 0.0}\n",
      "[2024-12-09 18:28:54] Loaded a source dictionary (fr) with 4000 words\n",
      "[2024-12-09 18:28:54] Loaded a target dictionary (en) with 4000 words\n",
      "[2024-12-09 18:28:54] Loaded a model from checkpoint atmt_2024/assignments/03/baseline/checkpoints/checkpoint_best.pt\n",
      "\n",
      "| Generation:   0%|          | 0/1 [00:00<?, ?it/s]\n",
      "| Generation: 100%|██████████| 1/1 [08:13<00:00, 493.56s/it]\n",
      "                                                            \n"
     ]
    },
    {
     "name": "stdout",
     "output_type": "stream",
     "text": [
      "Postprocessing Successful!\n",
      "\n"
     ]
    }
   ],
   "source": [
    "import os\n",
    "import time\n",
    "\n",
    "if not os.path.exists(\"outputs\"):\n",
    "    os.mkdir(\"outputs\")\n",
    "\n",
    "outputs = []\n",
    "\n",
    "for k in beam_k:\n",
    "    output_name_raw = f\"outputs/translation_beam={k}-raw.txt\"\n",
    "    print(f\"Translating with beam size {k}...\")\n",
    "    starttime = time.time()\n",
    "    ! python atmt_2024/translate_beam.py --checkpoint-path \"atmt_2024/assignments/03/baseline/checkpoints/checkpoint_best.pt\" --beam-size $k --output $output_name_raw --data \"atmt_2024/data/en-fr/prepared\" --dicts \"atmt_2024/data/en-fr/prepared\"\n",
    "    decoding_time = time.time()-starttime\n",
    "    print(\"Translation Successful!\\n\\nPostprocessing...\")\n",
    "    output_name_processed = f\"outputs/translation_beam={k}.txt\"\n",
    "    ! cd atmt_2024 && bash scripts/postprocess.sh ../$output_name_raw ../$output_name_processed \"en\"\n",
    "    os.remove(output_name_raw)\n",
    "    print(\"Postprocessing Successful!\\n\")\n",
    "    outputs.append((k,output_name_processed, decoding_time))\n"
   ]
  },
  {
   "cell_type": "code",
   "execution_count": 49,
   "metadata": {},
   "outputs": [
    {
     "data": {
      "text/plain": [
       "[(1,\n",
       "  {'name': 'BLEU',\n",
       "   'score': 17.1236,\n",
       "   'signature': 'nrefs:1|case:mixed|eff:no|tok:13a|smooth:exp|version:2.4.3',\n",
       "   'verbose_score': '44.2/22.1/12.6/7.0 (BP = 1.000 ratio = 1.342 hyp_len = 5222 ref_len = 3892)',\n",
       "   'nrefs': '1',\n",
       "   'case': 'mixed',\n",
       "   'eff': 'no',\n",
       "   'tok': '13a',\n",
       "   'smooth': 'exp',\n",
       "   'version': '2.4.3'},\n",
       "  12.961674690246582),\n",
       " (2,\n",
       "  {'name': 'BLEU',\n",
       "   'score': 18.9649,\n",
       "   'signature': 'nrefs:1|case:mixed|eff:no|tok:13a|smooth:exp|version:2.4.3',\n",
       "   'verbose_score': '47.6/24.3/14.0/8.0 (BP = 1.000 ratio = 1.235 hyp_len = 4808 ref_len = 3892)',\n",
       "   'nrefs': '1',\n",
       "   'case': 'mixed',\n",
       "   'eff': 'no',\n",
       "   'tok': '13a',\n",
       "   'smooth': 'exp',\n",
       "   'version': '2.4.3'},\n",
       "  18.068615913391113),\n",
       " (3,\n",
       "  {'name': 'BLEU',\n",
       "   'score': 19.0993,\n",
       "   'signature': 'nrefs:1|case:mixed|eff:no|tok:13a|smooth:exp|version:2.4.3',\n",
       "   'verbose_score': '48.9/24.6/14.0/7.9 (BP = 1.000 ratio = 1.195 hyp_len = 4651 ref_len = 3892)',\n",
       "   'nrefs': '1',\n",
       "   'case': 'mixed',\n",
       "   'eff': 'no',\n",
       "   'tok': '13a',\n",
       "   'smooth': 'exp',\n",
       "   'version': '2.4.3'},\n",
       "  24.95082378387451),\n",
       " (4,\n",
       "  {'name': 'BLEU',\n",
       "   'score': 18.6051,\n",
       "   'signature': 'nrefs:1|case:mixed|eff:no|tok:13a|smooth:exp|version:2.4.3',\n",
       "   'verbose_score': '47.7/24.0/13.7/7.7 (BP = 1.000 ratio = 1.221 hyp_len = 4752 ref_len = 3892)',\n",
       "   'nrefs': '1',\n",
       "   'case': 'mixed',\n",
       "   'eff': 'no',\n",
       "   'tok': '13a',\n",
       "   'smooth': 'exp',\n",
       "   'version': '2.4.3'},\n",
       "  33.73889470100403),\n",
       " (5,\n",
       "  {'name': 'BLEU',\n",
       "   'score': 20.0309,\n",
       "   'signature': 'nrefs:1|case:mixed|eff:no|tok:13a|smooth:exp|version:2.4.3',\n",
       "   'verbose_score': '50.6/25.8/14.8/8.3 (BP = 1.000 ratio = 1.144 hyp_len = 4451 ref_len = 3892)',\n",
       "   'nrefs': '1',\n",
       "   'case': 'mixed',\n",
       "   'eff': 'no',\n",
       "   'tok': '13a',\n",
       "   'smooth': 'exp',\n",
       "   'version': '2.4.3'},\n",
       "  42.202059507369995),\n",
       " (7,\n",
       "  {'name': 'BLEU',\n",
       "   'score': 20.8871,\n",
       "   'signature': 'nrefs:1|case:mixed|eff:no|tok:13a|smooth:exp|version:2.4.3',\n",
       "   'verbose_score': '52.0/26.7/15.4/8.9 (BP = 1.000 ratio = 1.101 hyp_len = 4285 ref_len = 3892)',\n",
       "   'nrefs': '1',\n",
       "   'case': 'mixed',\n",
       "   'eff': 'no',\n",
       "   'tok': '13a',\n",
       "   'smooth': 'exp',\n",
       "   'version': '2.4.3'},\n",
       "  63.12685751914978),\n",
       " (9,\n",
       "  {'name': 'BLEU',\n",
       "   'score': 21.9996,\n",
       "   'signature': 'nrefs:1|case:mixed|eff:no|tok:13a|smooth:exp|version:2.4.3',\n",
       "   'verbose_score': '53.8/27.8/16.3/9.6 (BP = 1.000 ratio = 1.052 hyp_len = 4093 ref_len = 3892)',\n",
       "   'nrefs': '1',\n",
       "   'case': 'mixed',\n",
       "   'eff': 'no',\n",
       "   'tok': '13a',\n",
       "   'smooth': 'exp',\n",
       "   'version': '2.4.3'},\n",
       "  91.4352216720581),\n",
       " (12,\n",
       "  {'name': 'BLEU',\n",
       "   'score': 22.1852,\n",
       "   'signature': 'nrefs:1|case:mixed|eff:no|tok:13a|smooth:exp|version:2.4.3',\n",
       "   'verbose_score': '54.0/28.0/16.4/9.8 (BP = 1.000 ratio = 1.010 hyp_len = 3929 ref_len = 3892)',\n",
       "   'nrefs': '1',\n",
       "   'case': 'mixed',\n",
       "   'eff': 'no',\n",
       "   'tok': '13a',\n",
       "   'smooth': 'exp',\n",
       "   'version': '2.4.3'},\n",
       "  149.5976860523224),\n",
       " (15,\n",
       "  {'name': 'BLEU',\n",
       "   'score': 22.1102,\n",
       "   'signature': 'nrefs:1|case:mixed|eff:no|tok:13a|smooth:exp|version:2.4.3',\n",
       "   'verbose_score': '55.6/29.1/17.4/10.4 (BP = 0.949 ratio = 0.950 hyp_len = 3699 ref_len = 3892)',\n",
       "   'nrefs': '1',\n",
       "   'case': 'mixed',\n",
       "   'eff': 'no',\n",
       "   'tok': '13a',\n",
       "   'smooth': 'exp',\n",
       "   'version': '2.4.3'},\n",
       "  211.98409271240234),\n",
       " (18,\n",
       "  {'name': 'BLEU',\n",
       "   'score': 21.9458,\n",
       "   'signature': 'nrefs:1|case:mixed|eff:no|tok:13a|smooth:exp|version:2.4.3',\n",
       "   'verbose_score': '56.0/29.9/18.0/10.8 (BP = 0.920 ratio = 0.923 hyp_len = 3591 ref_len = 3892)',\n",
       "   'nrefs': '1',\n",
       "   'case': 'mixed',\n",
       "   'eff': 'no',\n",
       "   'tok': '13a',\n",
       "   'smooth': 'exp',\n",
       "   'version': '2.4.3'},\n",
       "  298.7573082447052),\n",
       " (21,\n",
       "  {'name': 'BLEU',\n",
       "   'score': 21.5366,\n",
       "   'signature': 'nrefs:1|case:mixed|eff:no|tok:13a|smooth:exp|version:2.4.3',\n",
       "   'verbose_score': '58.3/31.5/19.3/11.7 (BP = 0.848 ratio = 0.858 hyp_len = 3340 ref_len = 3892)',\n",
       "   'nrefs': '1',\n",
       "   'case': 'mixed',\n",
       "   'eff': 'no',\n",
       "   'tok': '13a',\n",
       "   'smooth': 'exp',\n",
       "   'version': '2.4.3'},\n",
       "  387.7357370853424),\n",
       " (24,\n",
       "  {'name': 'BLEU',\n",
       "   'score': 21.2202,\n",
       "   'signature': 'nrefs:1|case:mixed|eff:no|tok:13a|smooth:exp|version:2.4.3',\n",
       "   'verbose_score': '58.6/32.1/19.8/12.0 (BP = 0.820 ratio = 0.834 hyp_len = 3246 ref_len = 3892)',\n",
       "   'nrefs': '1',\n",
       "   'case': 'mixed',\n",
       "   'eff': 'no',\n",
       "   'tok': '13a',\n",
       "   'smooth': 'exp',\n",
       "   'version': '2.4.3'},\n",
       "  496.19035840034485)]"
      ]
     },
     "execution_count": 49,
     "metadata": {},
     "output_type": "execute_result"
    }
   ],
   "source": [
    "import json\n",
    "reference = \"atmt_2024/data/en-fr/raw/test.en\"\n",
    "# ! sacrebleu --help\n",
    "results = []\n",
    "for k,file,decoding_time in outputs:\n",
    "    ! sacrebleu $reference -i $file -m bleu -w 4 > temp.json\n",
    "    with open(\"temp.json\", \"r\") as f:\n",
    "        results.append((k, json.load(f), decoding_time))\n",
    "results= sorted(results, key= lambda x: x[0])\n",
    "results"
   ]
  },
  {
   "cell_type": "code",
   "execution_count": 53,
   "metadata": {},
   "outputs": [
    {
     "data": {
      "text/plain": [
       "([<matplotlib.axis.XTick at 0x1be55092590>,\n",
       "  <matplotlib.axis.XTick at 0x1be55163d10>,\n",
       "  <matplotlib.axis.XTick at 0x1be52f0ef90>,\n",
       "  <matplotlib.axis.XTick at 0x1be52f59e50>,\n",
       "  <matplotlib.axis.XTick at 0x1be55116b50>,\n",
       "  <matplotlib.axis.XTick at 0x1be52f61010>,\n",
       "  <matplotlib.axis.XTick at 0x1be52f63150>,\n",
       "  <matplotlib.axis.XTick at 0x1be52f69390>,\n",
       "  <matplotlib.axis.XTick at 0x1be52f6b750>,\n",
       "  <matplotlib.axis.XTick at 0x1be52f61b10>,\n",
       "  <matplotlib.axis.XTick at 0x1be52f76250>,\n",
       "  <matplotlib.axis.XTick at 0x1be52f78490>],\n",
       " [Text(1, 0, '1'),\n",
       "  Text(2, 0, '2'),\n",
       "  Text(3, 0, '3'),\n",
       "  Text(4, 0, '4'),\n",
       "  Text(5, 0, '5'),\n",
       "  Text(7, 0, '7'),\n",
       "  Text(9, 0, '9'),\n",
       "  Text(12, 0, '12'),\n",
       "  Text(15, 0, '15'),\n",
       "  Text(18, 0, '18'),\n",
       "  Text(21, 0, '21'),\n",
       "  Text(24, 0, '24')])"
      ]
     },
     "execution_count": 53,
     "metadata": {},
     "output_type": "execute_result"
    },
    {
     "data": {
      "image/png": "[encoded data removed]",
      "text/plain": [
       "<Figure size 640x480 with 2 Axes>"
      ]
     },
     "metadata": {},
     "output_type": "display_data"
    }
   ],
   "source": [
    "import matplotlib.pyplot as plt\n",
    "import re\n",
    "\n",
    "def get_bp(verbose_score) -> float:\n",
    "    bp = re.search(r\"(?<=\\(BP\\s=\\s)[\\d\\.]+\", verbose_score).group(0)\n",
    "    return float(bp)\n",
    "\n",
    "ypoints_bp = []\n",
    "y_dec_time = []\n",
    "x_beam_size = []\n",
    "for k,result,_ in results:\n",
    "    ypoints_bp.append(get_bp(result[\"verbose_score\"]))\n",
    "    y_dec_time.append(result[\"score\"])\n",
    "    x_beam_size.append(k)\n",
    "    \n",
    "col1 = \"blue\"\n",
    "col2 = \"red\"\n",
    "\n",
    "fig,ax = plt.subplots()\n",
    "ax.plot(x_beam_size, y_dec_time, color=col1, marker='o', linewidth=1)\n",
    "ax.set_xlabel('Beam Size', fontsize=14)\n",
    "\n",
    "ax.set_ylabel('BLEU', color=col1, fontsize=16)\n",
    "\n",
    "ax2 = ax.twinx()\n",
    "\n",
    "ax2.plot(x_beam_size, ypoints_bp, color=col2, marker='o', linewidth=1)\n",
    "ax2.set_ylabel('Brevity Penalty', color=col2, fontsize=16)\n",
    "\n",
    "plt.xticks(ticks=x_beam_size)\n"
   ]
  },
  {
   "cell_type": "code",
   "execution_count": 51,
   "metadata": {},
   "outputs": [],
   "source": [
    "with open(\"beam_results.json\", \"w\") as f:\n",
    "    json.dump(results, f, indent=4)"
   ]
  },
  {
   "cell_type": "code",
   "execution_count": 54,
   "metadata": {},
   "outputs": [
    {
     "data": {
      "image/png": "[encoded data removed]",
      "text/plain": [
       "<Figure size 640x480 with 1 Axes>"
      ]
     },
     "metadata": {},
     "output_type": "display_data"
    }
   ],
   "source": [
    "y_dec_time = []\n",
    "x_beam_size = []\n",
    "for k,_,dec_time in results:\n",
    "    y_dec_time.append(dec_time)\n",
    "    x_beam_size.append(k)\n",
    "\n",
    "yticks = [x for x in range(0,int(max(y_dec_time)+1-max(y_dec_time)%60), 60)]\n",
    "\n",
    "plt.plot(x_beam_size, y_dec_time, marker=\"o\")\n",
    "plt.yticks(yticks)\n",
    "plt.ylabel(\"Decoding Time (s)\")\n",
    "plt.show()"
   ]
  },
  {
   "cell_type": "markdown",
   "metadata": {},
   "source": [
    "## Task 3\n",
    "\n",
    "### 3.2"
   ]
  },
  {
   "cell_type": "code",
   "execution_count": 8,
   "metadata": {},
   "outputs": [],
   "source": [
    "import os\n",
    "import time\n",
    "import json"
   ]
  },
  {
   "cell_type": "code",
   "execution_count": 55,
   "metadata": {},
   "outputs": [
    {
     "name": "stdout",
     "output_type": "stream",
     "text": [
      "len(searches)\t500\n"
     ]
    },
    {
     "name": "stderr",
     "output_type": "stream",
     "text": [
      "[2024-12-09 19:12:38] COMMAND: atmt_fork/translate_beam-3_2.py --checkpoint-path atmt_fork/assignments/03/baseline/checkpoints/checkpoint_best.pt --beam-size 3 --output out3_2-raw.txt --data atmt_fork/data/en-fr/prepared --dicts atmt_fork/data/en-fr/prepared\n",
      "[2024-12-09 19:12:38] Arguments: {'cuda': False, 'data': 'atmt_fork/data/en-fr/prepared', 'source_lang': 'fr', 'target_lang': 'en', 'max_tokens': None, 'batch_size': None, 'train_on_tiny': False, 'arch': 'lstm', 'max_epoch': 10000, 'clip_norm': 4.0, 'lr': 0.0003, 'patience': 3, 'log_file': None, 'save_dir': '/home/user/kew/HS2021/atmt/tests/assignment_03/baseline/checkpoints', 'restore_file': 'checkpoint_last.pt', 'save_interval': 1, 'no_save': False, 'epoch_checkpoints': False, 'encoder_embed_dim': 64, 'encoder_embed_path': None, 'encoder_hidden_size': 64, 'encoder_num_layers': 1, 'encoder_bidirectional': 'True', 'encoder_dropout_in': 0.25, 'encoder_dropout_out': 0.25, 'decoder_embed_dim': 64, 'decoder_embed_path': None, 'decoder_hidden_size': 128, 'decoder_num_layers': 1, 'decoder_dropout_in': 0.25, 'decoder_dropout_out': 0.25, 'decoder_use_attention': 'True', 'decoder_use_lexical_model': 'False', 'device_id': 0, 'seed': 42, 'dicts': 'atmt_fork/data/en-fr/prepared', 'checkpoint_path': 'atmt_fork/assignments/03/baseline/checkpoints/checkpoint_best.pt', 'output': 'out3_2-raw.txt', 'max_len': 100, 'beam_size': 3, 'alpha': 0.0}\n",
      "[2024-12-09 19:12:38] Loaded a source dictionary (fr) with 4000 words\n",
      "[2024-12-09 19:12:38] Loaded a target dictionary (en) with 4000 words\n",
      "[2024-12-09 19:12:38] Loaded a model from checkpoint atmt_fork/assignments/03/baseline/checkpoints/checkpoint_best.pt\n",
      "\n",
      "| Generation:   0%|          | 0/1 [00:00<?, ?it/s]\n",
      "| Generation: 100%|██████████| 1/1 [07:21<00:00, 441.20s/it]\n",
      "                                                            \n"
     ]
    },
    {
     "data": {
      "text/plain": [
       "('out3_2.txt', 444.56865787506104)"
      ]
     },
     "execution_count": 55,
     "metadata": {},
     "output_type": "execute_result"
    }
   ],
   "source": [
    "output_name_raw = \"out3_2-raw.txt\"\n",
    "output_name_processed = \"out3_2.txt\"\n",
    "\n",
    "starttime = time.time()\n",
    "! python atmt_fork/translate_beam-3_2.py --checkpoint-path \"atmt_fork/assignments/03/baseline/checkpoints/checkpoint_best.pt\" --beam-size 3 --output $output_name_raw --data \"atmt_fork/data/en-fr/prepared\" --dicts \"atmt_fork/data/en-fr/prepared\"\n",
    "decoding_time = time.time()-starttime\n",
    "! cd atmt_fork && bash scripts/postprocess.sh ../ATMT_Assignment_5/$output_name_raw ../ATMT_Assignment_5/$output_name_processed \"en\"\n",
    "if os.path.exists(output_name_raw):\n",
    "    os.remove(output_name_raw)\n",
    "\n",
    "result = (output_name_processed, decoding_time)\n",
    "result"
   ]
  },
  {
   "cell_type": "code",
   "execution_count": 57,
   "metadata": {},
   "outputs": [
    {
     "data": {
      "text/plain": [
       "{'filename': 'out3_2.txt',\n",
       " 'decoding_time': 444.56865787506104,\n",
       " 'beam_size': 3,\n",
       " 'bleu': {'name': 'BLEU',\n",
       "  'score': 19.9051,\n",
       "  'signature': 'nrefs:1|case:mixed|eff:no|tok:13a|smooth:exp|version:2.4.3',\n",
       "  'verbose_score': '49.3/25.4/14.7/8.5 (BP = 1.000 ratio = 1.189 hyp_len = 4628 ref_len = 3892)',\n",
       "  'nrefs': '1',\n",
       "  'case': 'mixed',\n",
       "  'eff': 'no',\n",
       "  'tok': '13a',\n",
       "  'smooth': 'exp',\n",
       "  'version': '2.4.3'}}"
      ]
     },
     "execution_count": 57,
     "metadata": {},
     "output_type": "execute_result"
    }
   ],
   "source": [
    "import json\n",
    "reference = \"atmt_fork/data/en-fr/raw/test.en\"\n",
    "# ! sacrebleu --help\n",
    "file = result[0]\n",
    "! sacrebleu $reference -i $file -m bleu -w 4 > beam3.json\n",
    "\n",
    "with open(\"beam3.json\", \"r\") as f:\n",
    "    result_dict = {\"filename\": file,\n",
    "                   \"decoding_time\": result[1],\n",
    "                   \"beam_size\": 3,\n",
    "                   \"bleu\": json.load(f)}\n",
    "result_dict"
   ]
  }
 ],
 "metadata": {
  "kernelspec": {
   "display_name": ".venv-atmt",
   "language": "python",
   "name": "python3"
  },
  "language_info": {
   "codemirror_mode": {
    "name": "ipython",
    "version": 3
   },
   "file_extension": ".py",
   "mimetype": "text/x-python",
   "name": "python",
   "nbconvert_exporter": "python",
   "pygments_lexer": "ipython3",
   "version": "3.11.3"
  }
 },
 "nbformat": 4,
 "nbformat_minor": 2
}
